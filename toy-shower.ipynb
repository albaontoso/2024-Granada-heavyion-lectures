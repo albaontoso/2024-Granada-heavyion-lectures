{
 "cells": [
  {
   "cell_type": "markdown",
   "metadata": {},
   "source": [
    "# Toy parton shower\n",
    "We are going to simulate the branching of a high-energy quark. This is an oversimplified example in which only the leading parton branches and we keep track of just the transverse momentum of the emission. Further, energy-momentum conservation is not taken into account."
   ]
  },
  {
   "cell_type": "code",
   "execution_count": 1,
   "metadata": {},
   "outputs": [
    {
     "data": {
      "application/vnd.jupyter.widget-view+json": {
       "model_id": "ff12cee26e454fe09ef08154ea809002",
       "version_major": 2,
       "version_minor": 0
      },
      "text/plain": [
       "interactive(children=(IntSlider(value=500, description='nev', max=1000, step=100), IntSlider(value=55, descrip…"
      ]
     },
     "execution_count": 1,
     "metadata": {},
     "output_type": "execute_result"
    }
   ],
   "source": [
    "from random import random\n",
    "from math import pi, exp, log, sqrt\n",
    "import matplotlib.pyplot as plt\n",
    "from ipywidgets import interactive\n",
    "import numpy as np\n",
    "\n",
    "# value of the strong coupling\n",
    "alphas = 0.12\n",
    "# choose a quark as the initiator \n",
    "CF=4/3\n",
    "\n",
    "np.random.seed(42) # Set the random number generator to a fixed sequence\n",
    "\n",
    "# First we define the probability of no-emission (Sudakov form factor)\n",
    "def ptFromSudakov(sudakovValue,ptHigh):\n",
    "    \"\"\"Returns the pt value that solves the relation \n",
    "       Sudakov = sudakovValue (for 0 < sudakovValue < 1)\n",
    "    \"\"\"\n",
    "    norm = (2*CF/pi)\n",
    "    # r = Sudakov = exp(-alphas * norm * L^2)\n",
    "    # --> log(r) = -alphas * norm * L^2\n",
    "    # --> L^2 = log(r)/(-alphas*norm)\n",
    "    L2 = log(sudakovValue)/(-alphas * norm)\n",
    "    pt = ptHigh * exp(-sqrt(L2))\n",
    "    return pt\n",
    "\n",
    "# Now we generate an \"event\" \n",
    "def event(ptHigh,ptCut):\n",
    "    # start with maximum possible value of Sudakov\n",
    "    sudakov  = 1\n",
    "    pt_values = []\n",
    "    while (True):\n",
    "        # scale it by a random number \n",
    "        sudakov *= random()\n",
    "        # deduce the corresponding pt\n",
    "        pt = ptFromSudakov(sudakov,ptHigh)\n",
    "        # if pt falls below the cutoff, event is finished\n",
    "        if (pt < ptCut): \n",
    "            break\n",
    "        #else, add it to the \"event record\"\n",
    "        else:\n",
    "            pt_values.append(pt)\n",
    "    return pt_values\n",
    "\n",
    "# And do some event loop + plotting\n",
    "def main(nev, ptHigh, ptCut):\n",
    "    particle_list = []\n",
    "    for iev in range(0,nev):\n",
    "        particle_list = particle_list+event(ptHigh,ptCut)\n",
    "    particles = np.array(particle_list,dtype=object)\n",
    "    nem = np.size(particles)\n",
    "    # make a little plot\n",
    "    plt.xlabel(r\"$p_t$ (GeV)\",fontsize=20)\n",
    "    plt.ylabel(r\"$N_{\\rm em}$\",fontsize=20)\n",
    "    plt.yscale('log')\n",
    "    plt.title(fr'$N_{{\\rm{{ev}}}}={nev}$, '\n",
    "            fr'$p_{{t,\\rm{{max}}}}={ptHigh}$ GeV, '\n",
    "            fr'$p_{{t,\\rm{{cut}}}}={ptCut}$ GeV, '\n",
    "            fr'$N_{{\\rm{{em}}}}={nem}$')\n",
    "    pt_bins = np.arange(0,max(particles),1)\n",
    "    \n",
    "    plt.hist(particles, bins=pt_bins)\n",
    "    print(\"average pt\", np.mean(particles))\n",
    "\n",
    "\n",
    "interactive_main = interactive(main, nev=(0,1000,100), ptHigh=(15,100,5), ptCut=(1,4,1))\n",
    "interactive_main\n",
    "        "
   ]
  },
  {
   "cell_type": "markdown",
   "metadata": {},
   "source": [
    "Now we are going to smear the previous distribution by including transverse momentum broadening sampled from a Gaussian with average $\\hat q L$, with $\\hat q$ being the quenching parameter and $L$ the length of the medium."
   ]
  },
  {
   "cell_type": "code",
   "execution_count": 2,
   "metadata": {},
   "outputs": [
    {
     "data": {
      "application/vnd.jupyter.widget-view+json": {
       "model_id": "b33717cbdd7543d580157debb19c3214",
       "version_major": 2,
       "version_minor": 0
      },
      "text/plain": [
       "interactive(children=(IntSlider(value=500, description='nev', max=1000, step=100), FloatSlider(value=2.0, desc…"
      ]
     },
     "execution_count": 2,
     "metadata": {},
     "output_type": "execute_result"
    }
   ],
   "source": [
    "GeVtoFm = 0.2 # convert units\n",
    "ptHigh = 100\n",
    "ptCut = 2\n",
    "\n",
    "def broadening(qhat,L):\n",
    "    qhat *= GeVtoFm # [GeV^3]\n",
    "    L /= GeVtoFm #[GeV^-1]\n",
    "    sigma = np.sqrt(qhat*L)\n",
    "    delta_kt = -1\n",
    "    # Generate a positive kt \n",
    "    while(delta_kt<0):\n",
    "        delta_kt = np.random.normal(0, sigma)\n",
    "    return delta_kt\n",
    "\n",
    "# Create shower + broadening \n",
    "def event_wbroadening(qhat,L):\n",
    "    # start with maximum possible value of Sudakov\n",
    "    sudakov  = 1\n",
    "    pt_values = []\n",
    "    while (True):\n",
    "        # scale it by a random number \n",
    "        sudakov *= random()\n",
    "        # deduce the corresponding pt\n",
    "        pt = ptFromSudakov(sudakov,ptHigh)\n",
    "        # if pt falls below the cutoff, event is finished\n",
    "        if (pt < ptCut): \n",
    "            break\n",
    "        #else, add it to the \"event record\"\n",
    "        else:\n",
    "            pt_values.append(pt+broadening(qhat,L))\n",
    "    return pt_values\n",
    "\n",
    "# And do some event loop + plotting\n",
    "def main_wbroad(nev, qhat, L):\n",
    "    particle_list = []\n",
    "    for iev in range(0,nev):\n",
    "        particle_list = particle_list+event_wbroadening(qhat,L)\n",
    "    particles = np.array(particle_list,dtype=object)\n",
    "    nem = np.size(particles)\n",
    "    # make a little plot\n",
    "    plt.xlabel(r\"$p_t$ (GeV)\",fontsize=20)\n",
    "    plt.ylabel(r\"$N_{\\rm em}$\",fontsize=20)\n",
    "    plt.yscale('log')\n",
    "    plt.title(fr'$N_{{\\rm{{ev}}}}={nev}$, '\n",
    "            fr'$\\hat q={qhat}$ GeV$^2$/fm, '\n",
    "            fr'$L={L}$ fm, '\n",
    "            fr'$N_{{\\rm{{em}}}}={nem}$')\n",
    "    pt_bins = np.arange(0,max(particles),1)\n",
    "    plt.hist(particles, bins=pt_bins)\n",
    "    print(\"average pt\" , np.mean(particles))\n",
    "\n",
    "interactive_main_wbroad = interactive(main_wbroad, nev=(0,1000,100), qhat=(1,3,0.5), L=(4,8,1))\n",
    "interactive_main_wbroad"
   ]
  }
 ],
 "metadata": {
  "kernelspec": {
   "display_name": "Python 3",
   "language": "python",
   "name": "python3"
  },
  "language_info": {
   "codemirror_mode": {
    "name": "ipython",
    "version": 3
   },
   "file_extension": ".py",
   "mimetype": "text/x-python",
   "name": "python",
   "nbconvert_exporter": "python",
   "pygments_lexer": "ipython3",
   "version": "3.10.8"
  }
 },
 "nbformat": 4,
 "nbformat_minor": 2
}
